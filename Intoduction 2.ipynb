{
 "cells": [
  {
   "cell_type": "markdown",
   "id": "d205927f-fd64-4149-8515-f36e3afeabde",
   "metadata": {},
   "source": [
    "## Different ways of using print statement \n"
   ]
  },
  {
   "cell_type": "code",
   "execution_count": 2,
   "id": "716a8826-71e6-4119-8558-b7f7a73a4a62",
   "metadata": {},
   "outputs": [
    {
     "name": "stdout",
     "output_type": "stream",
     "text": [
      "My age is : 32\n"
     ]
    }
   ],
   "source": [
    "age = 21\n",
    "print(\"My age is :\", age)"
   ]
  },
  {
   "cell_type": "code",
   "execution_count": 3,
   "id": "7e7532ae-9936-4d5e-a110-1b48f1d720e6",
   "metadata": {},
   "outputs": [
    {
     "name": "stdout",
     "output_type": "stream",
     "text": [
      "My age is : {age}\n"
     ]
    }
   ],
   "source": [
    "## f string \n",
    "print(\"My age is : {age}\")"
   ]
  },
  {
   "cell_type": "code",
   "execution_count": 4,
   "id": "60bdb3d7-cbe4-4d83-9b58-1cb87d97995a",
   "metadata": {},
   "outputs": [
    {
     "name": "stdout",
     "output_type": "stream",
     "text": [
      "My age is : 32\n"
     ]
    }
   ],
   "source": [
    "print(f\"My age is : {age}\")"
   ]
  },
  {
   "cell_type": "code",
   "execution_count": 6,
   "id": "87ab5964-05d6-420c-b24f-c20908d2d1ba",
   "metadata": {},
   "outputs": [
    {
     "name": "stdout",
     "output_type": "stream",
     "text": [
      "My name is Samarth and age is 21\n"
     ]
    }
   ],
   "source": [
    "## format \n",
    "name = \"Samarth\"\n",
    "print(\"My name is {} and age is {}\".format(name , age))"
   ]
  },
  {
   "cell_type": "code",
   "execution_count": 8,
   "id": "e3e2d0a0-0dcf-44d6-b941-991d320d10cb",
   "metadata": {},
   "outputs": [
    {
     "name": "stdout",
     "output_type": "stream",
     "text": [
      "My name is 21 and age is Samarth\n"
     ]
    }
   ],
   "source": [
    "print(\"My name is {} and age is {}\".format(age , name))"
   ]
  },
  {
   "cell_type": "code",
   "execution_count": 9,
   "id": "b4b41a65-f653-497c-9a17-caba60af0c44",
   "metadata": {},
   "outputs": [
    {
     "name": "stdout",
     "output_type": "stream",
     "text": [
      "My name is Samarth and age is 21\n"
     ]
    }
   ],
   "source": [
    "## placeholder \n",
    "print(\"My name is {firstname} and age is {firstage}\".format(firstname=name,firstage=age))"
   ]
  },
  {
   "cell_type": "code",
   "execution_count": 10,
   "id": "431846cb-050c-4c40-b580-be907b600b7c",
   "metadata": {},
   "outputs": [
    {
     "name": "stdout",
     "output_type": "stream",
     "text": [
      "My name is Samarth and age is 21\n"
     ]
    }
   ],
   "source": [
    "\n",
    "print(\"My name is {firstname} and age is {firstage}\".format(firstage=age, firstname=name))"
   ]
  },
  {
   "cell_type": "code",
   "execution_count": 11,
   "id": "eaadc835-6589-4f9f-8deb-2a02ab774460",
   "metadata": {},
   "outputs": [
    {
     "name": "stdout",
     "output_type": "stream",
     "text": [
      "My age is 21 and i have completed: my degree of BE with the name of Samarth Porwal\n"
     ]
    }
   ],
   "source": [
    "## exercise \n",
    "name = \"Samarth Porwal\"\n",
    "age = 21\n",
    "degree=\"BE\"\n",
    "\n",
    "# OutPut -> \"My age is 21 and i have completed: my degree of BE with the name of Samarth Porwal\"\n",
    "\n",
    "## format \n",
    "print(\"My age is {} and i have completed: my degree of {} with the name of {}\".format(age,degree,name))"
   ]
  },
  {
   "cell_type": "markdown",
   "id": "036ef347-33ce-4c22-b6c8-120b6f637d59",
   "metadata": {},
   "source": [
    "## Control Flow \n",
    "### Decision Makin Statement\n",
    "* It is kind of making decision during occurred situation of program execution and action can be taken according to specified conditions.\n",
    "   * Structure of decision making evaluate several expressions that provide True or False as a result.\n",
    "   * It is up to you to decide which type of action want to take and execute the statements based upon True and False.\n",
    "   \n",
    "**These are several topics of decision making which going to be discussed below:**\n",
    "   1. **if**\n",
    "   2. **if else** \n",
    "   3. **if elif else**\n",
    "   4. **Nested if**\n",
    "   5. **Single Statement Suites**"
   ]
  },
  {
   "cell_type": "code",
   "execution_count": 15,
   "id": "488be570-59e3-48b5-997c-260ec0b8e785",
   "metadata": {},
   "outputs": [
    {
     "name": "stdout",
     "output_type": "stream",
     "text": [
      "Samarth Porwal you are eligible to vote\n"
     ]
    }
   ],
   "source": [
    "## if Statement \n",
    "if age>=18:\n",
    "    print(f\"{name} you are eligible to vote\")"
   ]
  },
  {
   "cell_type": "code",
   "execution_count": 18,
   "id": "6c4ec55b-1a18-469b-884b-aea4c7bf5568",
   "metadata": {},
   "outputs": [
    {
     "name": "stdout",
     "output_type": "stream",
     "text": [
      "Samarth Porwal you are not eligible to vote\n"
     ]
    }
   ],
   "source": [
    "age = 17 \n",
    "if age<18:\n",
    "    print(f\"{name} you are not eligible to vote\")"
   ]
  },
  {
   "cell_type": "code",
   "execution_count": 20,
   "id": "af79f309-0359-419f-94b4-60e38e6b9fb8",
   "metadata": {},
   "outputs": [
    {
     "name": "stdin",
     "output_type": "stream",
     "text": [
      " samarth\n"
     ]
    },
    {
     "data": {
      "text/plain": [
       "'samarth'"
      ]
     },
     "execution_count": 20,
     "metadata": {},
     "output_type": "execute_result"
    }
   ],
   "source": [
    "## giving input at the runtime \n",
    "input()"
   ]
  },
  {
   "cell_type": "code",
   "execution_count": 21,
   "id": "fd40b711-1fa1-46f9-8ce6-7421c590c3a3",
   "metadata": {},
   "outputs": [
    {
     "name": "stdin",
     "output_type": "stream",
     "text": [
      "Enter the name  Samarth \n"
     ]
    }
   ],
   "source": [
    "name = input(\"Enter the name \")"
   ]
  },
  {
   "cell_type": "code",
   "execution_count": 22,
   "id": "42ccaa72-5b2d-46d5-833b-75aa5defcbca",
   "metadata": {},
   "outputs": [
    {
     "data": {
      "text/plain": [
       "'Samarth '"
      ]
     },
     "execution_count": 22,
     "metadata": {},
     "output_type": "execute_result"
    }
   ],
   "source": [
    "name \n"
   ]
  },
  {
   "cell_type": "code",
   "execution_count": 23,
   "id": "6d9cdd19-705f-4bcc-bd8c-937ba359e54a",
   "metadata": {},
   "outputs": [
    {
     "name": "stdin",
     "output_type": "stream",
     "text": [
      "Enter you age 21\n"
     ]
    }
   ],
   "source": [
    "# we have to do typecasting because by default it is coming in the string format \n",
    "age=int(input(\"Enter you age\"))"
   ]
  },
  {
   "cell_type": "code",
   "execution_count": 24,
   "id": "a1bcac06-2949-47ef-b578-985bfe1c6d50",
   "metadata": {},
   "outputs": [
    {
     "data": {
      "text/plain": [
       "21"
      ]
     },
     "execution_count": 24,
     "metadata": {},
     "output_type": "execute_result"
    }
   ],
   "source": [
    "age"
   ]
  },
  {
   "cell_type": "code",
   "execution_count": 25,
   "id": "ab2653f6-f3e7-4441-b66c-b34e23ba5446",
   "metadata": {},
   "outputs": [],
   "source": [
    "## TASK\n",
    "## Take a input age \n",
    "## check whether age >= 18 and age<=45\n",
    "## dispaly a message you are young blood "
   ]
  },
  {
   "cell_type": "code",
   "execution_count": 28,
   "id": "14f01a40-15a9-4e8e-b102-7b98a2e35a19",
   "metadata": {},
   "outputs": [
    {
     "name": "stdin",
     "output_type": "stream",
     "text": [
      "Enter your age 65\n"
     ]
    }
   ],
   "source": [
    "age = int(input(\"Enter your age\"))\n",
    "if(age>=18 and age<=45):\n",
    "    print(\"You are young blood\")"
   ]
  },
  {
   "cell_type": "code",
   "execution_count": 31,
   "id": "66d9e106-cfa0-465c-afb3-63c3f9d5e56b",
   "metadata": {},
   "outputs": [
    {
     "name": "stdin",
     "output_type": "stream",
     "text": [
      "Enter your age 89\n"
     ]
    },
    {
     "name": "stdout",
     "output_type": "stream",
     "text": [
      "Thank You but you are not eligible\n"
     ]
    }
   ],
   "source": [
    "## if else statement \n",
    "age = int(input(\"Enter your age\"))\n",
    "if(age>=18 and age<=45):\n",
    "    print(\"You are young blood\")\n",
    "else:\n",
    "    print(\"Thank You but you are not eligible\")"
   ]
  },
  {
   "cell_type": "code",
   "execution_count": 32,
   "id": "de3240df-7d93-4d97-bdfc-65803c8169c8",
   "metadata": {},
   "outputs": [
    {
     "name": "stdin",
     "output_type": "stream",
     "text": [
      "Enter Product Price 1000\n"
     ]
    },
    {
     "name": "stdout",
     "output_type": "stream",
     "text": [
      "700.0\n"
     ]
    }
   ],
   "source": [
    "## mall - input the product price \n",
    "## product > 1000 rs 20% off\n",
    "## product <= 1000 rs 30% off \n",
    "## print the product price after removing the discount\n",
    "\n",
    "productPrice = int(input(\"Enter Product Price\"))\n",
    "if(productPrice > 1000):\n",
    "    print(productPrice - (productPrice*20)/100)\n",
    "else:\n",
    "    print(productPrice - (productPrice*30)/100)"
   ]
  },
  {
   "cell_type": "code",
   "execution_count": 33,
   "id": "529a6f3f-900b-41d6-82e3-805412ec3e76",
   "metadata": {},
   "outputs": [
    {
     "name": "stdin",
     "output_type": "stream",
     "text": [
      "Enter Product Price 5000\n"
     ]
    },
    {
     "name": "stdout",
     "output_type": "stream",
     "text": [
      "The Price of the product is 4000.0\n"
     ]
    }
   ],
   "source": [
    "# good way to write the code \n",
    "productPrice = int(input(\"Enter Product Price\"))\n",
    "if(productPrice > 1000):\n",
    "    print(\"The Price of the product is {}\".format(productPrice*0.8))\n",
    "else:\n",
    "    print(\"The Price of the product is {}\".format(productPrice*0.7))"
   ]
  },
  {
   "cell_type": "code",
   "execution_count": 35,
   "id": "87db206a-171c-4538-95df-5418f454608d",
   "metadata": {},
   "outputs": [
    {
     "name": "stdin",
     "output_type": "stream",
     "text": [
      "Enter Product Price 2999\n"
     ]
    },
    {
     "name": "stdout",
     "output_type": "stream",
     "text": [
      "Congratulations you got a trip to Goa\n",
      "The Price of the product is 2099.2999999999997\n"
     ]
    }
   ],
   "source": [
    "## else-if statement\n",
    "## nested-if\n",
    "productPrice = int(input(\"Enter Product Price\"))\n",
    "if(productPrice > 3000):\n",
    "    print(\"The Price of the product is {}\".format(productPrice*0.8))\n",
    "elif productPrice>=2000 and productPrice<=3000:\n",
    "    if productPrice==2999:\n",
    "        print(\"Congratulations you got a trip to Goa\")\n",
    "    print(\"The Price of the product is {}\".format(productPrice*0.7))\n",
    "else:\n",
    "    print(\"The Price of the product is {}\".format(productPrice*0.6))"
   ]
  },
  {
   "cell_type": "code",
   "execution_count": 37,
   "id": "381afddf-8307-4ecf-b689-1f5bfbd0631f",
   "metadata": {},
   "outputs": [
    {
     "name": "stdin",
     "output_type": "stream",
     "text": [
      "Enter the number 1000\n"
     ]
    },
    {
     "name": "stdout",
     "output_type": "stream",
     "text": [
      "Go Home\n"
     ]
    }
   ],
   "source": [
    "## Single Statement \n",
    "val=int(input('Enter the number'))\n",
    "if(val<=999):print(\"Value is less than equal to 999\")\n",
    "else:print(\"Go Home\")"
   ]
  },
  {
   "cell_type": "markdown",
   "id": "6119ca8c-0395-4aea-9c84-500d0e6f354b",
   "metadata": {},
   "source": [
    "## Loops Statements\n",
    "1. while loop\n",
    "2. for loop\n",
    "3. nested loop\n",
    "4. loop control(break, continue, pass)\n"
   ]
  },
  {
   "cell_type": "code",
   "execution_count": 38,
   "id": "1781af6a-9547-4ea2-828f-c88aefd39c10",
   "metadata": {},
   "outputs": [
    {
     "name": "stdin",
     "output_type": "stream",
     "text": [
      "Enter Your Joining Age 25\n"
     ]
    },
    {
     "name": "stdout",
     "output_type": "stream",
     "text": [
      "Your Joining Age is 25\n",
      "Your Joining Age is 26\n",
      "Your Joining Age is 27\n",
      "Your Joining Age is 28\n",
      "Your Joining Age is 29\n",
      "Your Joining Age is 30\n",
      "Your Joining Age is 31\n",
      "Your Joining Age is 32\n",
      "Your Joining Age is 33\n",
      "Your Joining Age is 34\n",
      "Your Joining Age is 35\n",
      "Your Joining Age is 36\n",
      "Your Joining Age is 37\n",
      "Your Joining Age is 38\n",
      "Your Joining Age is 39\n",
      "Your Joining Age is 40\n",
      "Your Joining Age is 41\n",
      "Your Joining Age is 42\n",
      "Your Joining Age is 43\n",
      "Your Joining Age is 44\n",
      "Your Joining Age is 45\n",
      "Your Joining Age is 46\n",
      "Your Joining Age is 47\n",
      "Your Joining Age is 48\n",
      "Your Joining Age is 49\n",
      "Your Joining Age is 50\n",
      "Your Joining Age is 51\n",
      "Your Joining Age is 52\n",
      "Your Joining Age is 53\n",
      "Your Joining Age is 54\n",
      "Your Joining Age is 55\n",
      "Your Joining Age is 56\n",
      "Your Joining Age is 57\n",
      "Your Joining Age is 58\n",
      "Your Joining Age is 59\n",
      "Your Joining Age is 60\n",
      "Congratulations you can now retire\n"
     ]
    }
   ],
   "source": [
    "# while loop\n",
    "joining_age = int(input('Enter Your Joining Age'))\n",
    "i = 1\n",
    "while joining_age<=60:\n",
    "    print(f'Your Joining Age is {joining_age}')\n",
    "    joining_age=joining_age+1\n",
    "    \n",
    "print(\"Congratulations you can now retire\")"
   ]
  },
  {
   "cell_type": "code",
   "execution_count": 42,
   "id": "a17ab732-7164-4085-8ae3-5839557cc231",
   "metadata": {},
   "outputs": [
    {
     "name": "stdin",
     "output_type": "stream",
     "text": [
      "Enter amount 1000\n"
     ]
    },
    {
     "name": "stdout",
     "output_type": "stream",
     "text": [
      "1000\n",
      "900\n",
      "800\n",
      "700\n",
      "600\n",
      "500\n",
      "400\n",
      "300\n",
      "200\n",
      "100\n",
      "Put more money in the ATM\n"
     ]
    }
   ],
   "source": [
    "### Atm machine with 1000 rs \n",
    "total_amount = int(input('Enter amount'))\n",
    "while total_amount!=0:\n",
    "    print(total_amount)\n",
    "    total_amount = total_amount-100\n",
    "else:\n",
    "    print(\"Put more money in the ATM\")"
   ]
  },
  {
   "cell_type": "code",
   "execution_count": 43,
   "id": "6d6ccaf9-10bb-4699-8bd5-8b3cfdb1edab",
   "metadata": {},
   "outputs": [
    {
     "data": {
      "text/plain": [
       "list"
      ]
     },
     "execution_count": 43,
     "metadata": {},
     "output_type": "execute_result"
    }
   ],
   "source": [
    "## For Loop \n",
    "lst=[\"Samarth\",1,2,3,4,\"apple\",\"watermelon\"]\n",
    "type(lst)"
   ]
  },
  {
   "cell_type": "code",
   "execution_count": 44,
   "id": "751c9a2b-214f-4e4a-94d4-86527aa2f240",
   "metadata": {},
   "outputs": [
    {
     "data": {
      "text/plain": [
       "'Samarth'"
      ]
     },
     "execution_count": 44,
     "metadata": {},
     "output_type": "execute_result"
    }
   ],
   "source": [
    "lst[0]"
   ]
  },
  {
   "cell_type": "code",
   "execution_count": 45,
   "id": "e69f4e9f-1a53-4e6e-855f-eb50e17b5c37",
   "metadata": {},
   "outputs": [
    {
     "name": "stdout",
     "output_type": "stream",
     "text": [
      "Samarth\n",
      "1\n",
      "2\n",
      "3\n",
      "4\n",
      "apple\n",
      "watermelon\n"
     ]
    }
   ],
   "source": [
    "for i in lst:\n",
    "    print(i)"
   ]
  },
  {
   "cell_type": "code",
   "execution_count": 6,
   "id": "168b5ecb-5b54-4816-9534-b93ed5e22118",
   "metadata": {},
   "outputs": [
    {
     "name": "stdout",
     "output_type": "stream",
     "text": [
      "Mango\n",
      "Cherry\n",
      "Apple\n",
      "Papaya\n",
      "Banana\n"
     ]
    }
   ],
   "source": [
    "fruits_list = [\"Mango\",\"Cherry\",\"Apple\",\"Papaya\",\"Banana\"]\n",
    "for fruit in fruits_list:\n",
    "    print(fruit)"
   ]
  },
  {
   "cell_type": "code",
   "execution_count": 51,
   "id": "244fb2a0-5f13-4868-aa66-bce69cda45cd",
   "metadata": {},
   "outputs": [
    {
     "name": "stdout",
     "output_type": "stream",
     "text": [
      "Mango Cherry Apple Papaya Banana "
     ]
    }
   ],
   "source": [
    "# for printing in single line \n",
    "for fruit in fruits_list:\n",
    "    print(fruit+\" \",end='')"
   ]
  },
  {
   "cell_type": "code",
   "execution_count": 52,
   "id": "91112be9-e238-4763-9e04-da21afc3fee0",
   "metadata": {},
   "outputs": [
    {
     "name": "stdout",
     "output_type": "stream",
     "text": [
      "m\n",
      "a\n",
      "n\n",
      "g\n",
      "o\n"
     ]
    }
   ],
   "source": [
    "fruit = 'mango'\n",
    "for x in fruit:\n",
    "    print(x)"
   ]
  },
  {
   "cell_type": "code",
   "execution_count": 53,
   "id": "9c49406c-0f0e-4e95-9abf-d27e4b3264f2",
   "metadata": {},
   "outputs": [
    {
     "data": {
      "text/plain": [
       "'n'"
      ]
     },
     "execution_count": 53,
     "metadata": {},
     "output_type": "execute_result"
    }
   ],
   "source": [
    "fruit[2]"
   ]
  },
  {
   "cell_type": "markdown",
   "id": "45af9b16-865b-4488-816f-1592f550059c",
   "metadata": {},
   "source": [
    "### Nested Loops\n",
    "### range() -> Returns an object that produces a sequence of integers from start(inclusive) to stop(exclusive) by step\n"
   ]
  },
  {
   "cell_type": "code",
   "execution_count": 54,
   "id": "ffc4365d-dd08-4fd8-be38-152b8d6bd165",
   "metadata": {},
   "outputs": [
    {
     "data": {
      "text/plain": [
       "range(1, 6)"
      ]
     },
     "execution_count": 54,
     "metadata": {},
     "output_type": "execute_result"
    }
   ],
   "source": [
    "range(1,6)"
   ]
  },
  {
   "cell_type": "code",
   "execution_count": 55,
   "id": "f1f49074-2237-414b-8653-6d97027d222c",
   "metadata": {},
   "outputs": [
    {
     "name": "stdout",
     "output_type": "stream",
     "text": [
      "1\n",
      "2\n",
      "3\n",
      "4\n",
      "5\n"
     ]
    }
   ],
   "source": [
    "for i in range(1,6):\n",
    "    print(i)"
   ]
  },
  {
   "cell_type": "code",
   "execution_count": 57,
   "id": "f48d1a35-46d8-4e5f-96a9-79851fbf7ab4",
   "metadata": {},
   "outputs": [
    {
     "name": "stdout",
     "output_type": "stream",
     "text": [
      "1\n",
      "3\n",
      "5\n",
      "7\n",
      "9\n"
     ]
    }
   ],
   "source": [
    "## we can also five the step size after how many times it should leave and print\n",
    "for i in range(1,10,2):\n",
    "    print(i)"
   ]
  },
  {
   "cell_type": "code",
   "execution_count": 1,
   "id": "c5d4e3cd-0cff-439c-a026-2817e5bb36c9",
   "metadata": {},
   "outputs": [
    {
     "name": "stdout",
     "output_type": "stream",
     "text": [
      "*\n",
      "**\n",
      "***\n",
      "****\n",
      "*****\n",
      "******\n",
      "*******\n"
     ]
    }
   ],
   "source": [
    "n=7\n",
    "\n",
    "for i in range(0,n):\n",
    "    for j in range(0,i+1):\n",
    "        print(\"*\",end=\"\")\n",
    "    print(\"\\r\") ## moving to the new line "
   ]
  },
  {
   "cell_type": "code",
   "execution_count": 7,
   "id": "8cc6ab93-34c0-4976-924b-3c335b3f5b59",
   "metadata": {},
   "outputs": [
    {
     "name": "stdout",
     "output_type": "stream",
     "text": [
      "Mango\n",
      "Cherry\n",
      "The fruit is apple\n"
     ]
    }
   ],
   "source": [
    "## loop Controls \n",
    "### break and continue \n",
    "for i in fruits_list:\n",
    "    if i == \"Apple\":\n",
    "        print(\"The fruit is apple\")\n",
    "        break\n",
    "    print(i)\n",
    "    "
   ]
  },
  {
   "cell_type": "code",
   "execution_count": 8,
   "id": "266ad760-4044-4070-84a6-2f59274ce0a5",
   "metadata": {},
   "outputs": [
    {
     "name": "stdout",
     "output_type": "stream",
     "text": [
      "Mango\n",
      "Cherry\n",
      "The fruit is apple\n",
      "Papaya\n",
      "Banana\n"
     ]
    }
   ],
   "source": [
    "for i in fruits_list:\n",
    "    if i == \"Apple\":\n",
    "        print(\"The fruit is apple\")\n",
    "        continue\n",
    "    print(i)"
   ]
  },
  {
   "cell_type": "markdown",
   "id": "d75d7122-fb5b-4eff-888b-895c58b68893",
   "metadata": {},
   "source": [
    "## Exercise Print an Equilateral Triangle "
   ]
  },
  {
   "cell_type": "code",
   "execution_count": 1,
   "id": "ff730727-c208-409e-a1f7-c49a04c22fb2",
   "metadata": {},
   "outputs": [
    {
     "name": "stdin",
     "output_type": "stream",
     "text": [
      "Enter no. of  Rows 5\n"
     ]
    },
    {
     "name": "stdout",
     "output_type": "stream",
     "text": [
      "    * \n",
      "   * * \n",
      "  * * * \n",
      " * * * * \n",
      "* * * * * \n"
     ]
    }
   ],
   "source": [
    "## printing equilateral triangle with spaces first \n",
    "row = int(input('Enter no. of  Rows'))\n",
    "for i in range(row):\n",
    "    for j in range(row-i-1):\n",
    "        print(\" \",end=\"\")\n",
    "    for j in range(i+1):\n",
    "        print(\"*\",end=\" \")\n",
    "    print()"
   ]
  },
  {
   "cell_type": "code",
   "execution_count": 3,
   "id": "a2364cd4-6f30-493b-86ae-2f9ca2aaf647",
   "metadata": {},
   "outputs": [
    {
     "name": "stdin",
     "output_type": "stream",
     "text": [
      "Enter no. of  Rows 5\n"
     ]
    },
    {
     "name": "stdout",
     "output_type": "stream",
     "text": [
      "    * \n",
      "   * * * \n",
      "  * * * * * \n",
      " * * * * * * * \n",
      "* * * * * * * * * \n"
     ]
    }
   ],
   "source": [
    "## printing odd no of stars in each line with space \n",
    "row = int(input('Enter no. of  Rows'))\n",
    "for i in range(row):\n",
    "    for j in range(row-i-1):\n",
    "        print(\" \",end=\"\")\n",
    "    for j in range(2*i+1):\n",
    "        print(\"*\",end=\" \")\n",
    "    print()"
   ]
  },
  {
   "cell_type": "code",
   "execution_count": 5,
   "id": "ab2c0e87-d266-494a-9068-14ada00c92ce",
   "metadata": {},
   "outputs": [
    {
     "name": "stdin",
     "output_type": "stream",
     "text": [
      "Enter no. of  Rows 5\n"
     ]
    },
    {
     "name": "stdout",
     "output_type": "stream",
     "text": [
      "    *\n",
      "   ***\n",
      "  *****\n",
      " *******\n",
      "*********\n"
     ]
    }
   ],
   "source": [
    "## printing odd no of stars in each line without space \n",
    "row = int(input('Enter no. of  Rows'))\n",
    "for i in range(row):\n",
    "    for j in range(row-i-1):\n",
    "        print(\" \",end=\"\")\n",
    "    for j in range(2*i+1):\n",
    "        print(\"*\",end=\"\")\n",
    "    print()"
   ]
  },
  {
   "cell_type": "code",
   "execution_count": null,
   "id": "8824b641-63f6-4f9c-a584-9c6f729c7079",
   "metadata": {},
   "outputs": [],
   "source": []
  }
 ],
 "metadata": {
  "kernelspec": {
   "display_name": "Python 3 (ipykernel)",
   "language": "python",
   "name": "python3"
  },
  "language_info": {
   "codemirror_mode": {
    "name": "ipython",
    "version": 3
   },
   "file_extension": ".py",
   "mimetype": "text/x-python",
   "name": "python",
   "nbconvert_exporter": "python",
   "pygments_lexer": "ipython3",
   "version": "3.10.8"
  }
 },
 "nbformat": 4,
 "nbformat_minor": 5
}
