{
 "cells": [
  {
   "cell_type": "code",
   "execution_count": 3,
   "id": "ff82086f-e698-47d2-b907-0a7c6b91fee2",
   "metadata": {},
   "outputs": [
    {
     "data": {
      "text/plain": [
       "2"
      ]
     },
     "execution_count": 3,
     "metadata": {},
     "output_type": "execute_result"
    }
   ],
   "source": [
    "1+1"
   ]
  },
  {
   "cell_type": "code",
   "execution_count": 5,
   "id": "c8262b58-dc2c-4d4c-a5b9-d800cc8a3d78",
   "metadata": {},
   "outputs": [
    {
     "data": {
      "text/plain": [
       "4"
      ]
     },
     "execution_count": 5,
     "metadata": {},
     "output_type": "execute_result"
    }
   ],
   "source": [
    "## This is an example for a single line comment \n",
    "2+2"
   ]
  },
  {
   "cell_type": "code",
   "execution_count": 6,
   "id": "e681b331-b6be-4c8a-9bfd-46899971de56",
   "metadata": {},
   "outputs": [
    {
     "data": {
      "text/plain": [
       "6"
      ]
     },
     "execution_count": 6,
     "metadata": {},
     "output_type": "execute_result"
    }
   ],
   "source": [
    "\"\"\"\n",
    "This is an example for multiline comments\n",
    "example for multiline comments \n",
    "\"\"\"\n",
    "3+3"
   ]
  },
  {
   "cell_type": "markdown",
   "id": "aee062cc-8e9a-4788-a373-aa7c17477efc",
   "metadata": {},
   "source": [
    "# This is for Title by using Markdown option with single hash\n",
    "\n",
    "## Title with double hash \n",
    "\n"
   ]
  },
  {
   "cell_type": "code",
   "execution_count": 7,
   "id": "22078638-8afd-4f01-9cb0-30980053ed2e",
   "metadata": {},
   "outputs": [],
   "source": [
    "# press escape and continuously press a to create cells "
   ]
  },
  {
   "cell_type": "code",
   "execution_count": 8,
   "id": "a3d48f5a-f7d0-4d96-97c5-926e82efac81",
   "metadata": {},
   "outputs": [
    {
     "name": "stdout",
     "output_type": "stream",
     "text": [
      "Hello World Samarth\n"
     ]
    }
   ],
   "source": [
    "print(\"Hello World Samarth\")\n",
    "# press shift tab to get the information of the function , \n",
    "# print is an inbuilt function "
   ]
  },
  {
   "cell_type": "code",
   "execution_count": 9,
   "id": "ae30cc1a-4c94-4efa-94a5-e2c23cb138c2",
   "metadata": {},
   "outputs": [
    {
     "ename": "SyntaxError",
     "evalue": "unterminated string literal (detected at line 2) (2634119725.py, line 2)",
     "output_type": "error",
     "traceback": [
      "\u001b[0;36m  Cell \u001b[0;32mIn[9], line 2\u001b[0;36m\u001b[0m\n\u001b[0;31m    print(\"Hello World\u001b[0m\n\u001b[0m          ^\u001b[0m\n\u001b[0;31mSyntaxError\u001b[0m\u001b[0;31m:\u001b[0m unterminated string literal (detected at line 2)\n"
     ]
    }
   ],
   "source": [
    "# for new line \n",
    "print(\"Hello World \n",
    "      Samarth\")"
   ]
  },
  {
   "cell_type": "code",
   "execution_count": 11,
   "id": "df29b523-9644-4cc2-b769-841749e0d300",
   "metadata": {},
   "outputs": [
    {
     "name": "stdout",
     "output_type": "stream",
     "text": [
      "Hello World \n",
      " Samarth\n"
     ]
    }
   ],
   "source": [
    "print(\"Hello World \\n Samarth\")"
   ]
  },
  {
   "cell_type": "markdown",
   "id": "3f9afb83-f61a-4e90-bc52-ac866f6aa1d2",
   "metadata": {},
   "source": [
    "# Variable Assignment\n"
   ]
  },
  {
   "cell_type": "code",
   "execution_count": 12,
   "id": "aa1a7135-9c9a-4572-a546-7146b8ba95e9",
   "metadata": {},
   "outputs": [],
   "source": [
    "name = \"Samarth\"\n",
    "company = \"Student and Self Placed\""
   ]
  },
  {
   "cell_type": "code",
   "execution_count": 13,
   "id": "3b00f97d-5c41-4b73-98de-2910e951b466",
   "metadata": {},
   "outputs": [
    {
     "data": {
      "text/plain": [
       "'Samarth'"
      ]
     },
     "execution_count": 13,
     "metadata": {},
     "output_type": "execute_result"
    }
   ],
   "source": [
    "name"
   ]
  },
  {
   "cell_type": "code",
   "execution_count": 14,
   "id": "3c18c794-2c2a-4ccd-a3eb-820337e45710",
   "metadata": {},
   "outputs": [
    {
     "data": {
      "text/plain": [
       "'Student and Self Placed'"
      ]
     },
     "execution_count": 14,
     "metadata": {},
     "output_type": "execute_result"
    }
   ],
   "source": [
    "company"
   ]
  },
  {
   "cell_type": "code",
   "execution_count": 15,
   "id": "bab34f1e-0fe2-4e61-b668-3ac7129a9865",
   "metadata": {},
   "outputs": [],
   "source": [
    "name = \"Nitya\""
   ]
  },
  {
   "cell_type": "code",
   "execution_count": 16,
   "id": "074bf2ae-60d7-44af-9e97-43bcd3b659e8",
   "metadata": {},
   "outputs": [
    {
     "data": {
      "text/plain": [
       "'Nitya'"
      ]
     },
     "execution_count": 16,
     "metadata": {},
     "output_type": "execute_result"
    }
   ],
   "source": [
    "name"
   ]
  },
  {
   "cell_type": "code",
   "execution_count": 17,
   "id": "cb319d61-eb7f-4cf6-9e4d-a27e19d0c2bc",
   "metadata": {},
   "outputs": [
    {
     "data": {
      "text/plain": [
       "str"
      ]
     },
     "execution_count": 17,
     "metadata": {},
     "output_type": "execute_result"
    }
   ],
   "source": [
    "type(name)"
   ]
  },
  {
   "cell_type": "code",
   "execution_count": 18,
   "id": "bf33b1ad-1d76-47a7-9ab7-c891e86f6c08",
   "metadata": {},
   "outputs": [],
   "source": [
    "decimal_number = 2.5"
   ]
  },
  {
   "cell_type": "code",
   "execution_count": 19,
   "id": "bfccaf2b-c464-4277-84df-4585501c25b4",
   "metadata": {},
   "outputs": [
    {
     "data": {
      "text/plain": [
       "2.5"
      ]
     },
     "execution_count": 19,
     "metadata": {},
     "output_type": "execute_result"
    }
   ],
   "source": [
    "decimal_number\n"
   ]
  },
  {
   "cell_type": "code",
   "execution_count": 20,
   "id": "176570ed-f8a5-45d6-a57b-3810d6342343",
   "metadata": {},
   "outputs": [
    {
     "data": {
      "text/plain": [
       "float"
      ]
     },
     "execution_count": 20,
     "metadata": {},
     "output_type": "execute_result"
    }
   ],
   "source": [
    "type(decimal_number)"
   ]
  },
  {
   "cell_type": "code",
   "execution_count": 21,
   "id": "db5e7c6a-9231-43e2-97eb-e947ad7acff3",
   "metadata": {},
   "outputs": [],
   "source": [
    "complex_number = 1+2j"
   ]
  },
  {
   "cell_type": "code",
   "execution_count": 22,
   "id": "2057be6a-687b-4cf7-8dd7-589cac7b4131",
   "metadata": {},
   "outputs": [
    {
     "data": {
      "text/plain": [
       "(1+2j)"
      ]
     },
     "execution_count": 22,
     "metadata": {},
     "output_type": "execute_result"
    }
   ],
   "source": [
    "complex_number\n"
   ]
  },
  {
   "cell_type": "code",
   "execution_count": 23,
   "id": "5faddb0e-0660-4fe0-8310-437be79aab57",
   "metadata": {},
   "outputs": [
    {
     "data": {
      "text/plain": [
       "complex"
      ]
     },
     "execution_count": 23,
     "metadata": {},
     "output_type": "execute_result"
    }
   ],
   "source": [
    "type(complex_number)"
   ]
  },
  {
   "cell_type": "code",
   "execution_count": null,
   "id": "50b60060-0042-46d0-bfd1-3c931ff0b3bf",
   "metadata": {},
   "outputs": [
    {
     "data": {
      "text/plain": [
       "'\\nint , float , len , complex , bool , str , return , yield\\n'"
      ]
     },
     "execution_count": 26,
     "metadata": {},
     "output_type": "execute_result"
    }
   ],
   "source": [
    "## Reserved KeyWords\n",
    "\n",
    "\"\"\"\n",
    "int , float , len , complex , bool , str , return , yield\n",
    "\"\"\""
   ]
  },
  {
   "cell_type": "code",
   "execution_count": 27,
   "id": "e8008115-bb19-4749-b01d-9e989acc7747",
   "metadata": {},
   "outputs": [
    {
     "data": {
      "text/plain": [
       "True"
      ]
     },
     "execution_count": 27,
     "metadata": {},
     "output_type": "execute_result"
    }
   ],
   "source": [
    "True\n"
   ]
  },
  {
   "cell_type": "code",
   "execution_count": 28,
   "id": "8e42a9dd-a7c1-4e91-97d7-22ac6ac3c985",
   "metadata": {},
   "outputs": [
    {
     "data": {
      "text/plain": [
       "False"
      ]
     },
     "execution_count": 28,
     "metadata": {},
     "output_type": "execute_result"
    }
   ],
   "source": [
    "False"
   ]
  },
  {
   "cell_type": "code",
   "execution_count": 29,
   "id": "2e7866e5-b722-45b0-b64c-4ce8bac2f6a4",
   "metadata": {},
   "outputs": [
    {
     "data": {
      "text/plain": [
       "False"
      ]
     },
     "execution_count": 29,
     "metadata": {},
     "output_type": "execute_result"
    }
   ],
   "source": [
    "True and False"
   ]
  },
  {
   "cell_type": "code",
   "execution_count": 30,
   "id": "3f467e1e-a9b4-4a01-8430-28664cec7572",
   "metadata": {},
   "outputs": [
    {
     "data": {
      "text/plain": [
       "True"
      ]
     },
     "execution_count": 30,
     "metadata": {},
     "output_type": "execute_result"
    }
   ],
   "source": [
    "True or False"
   ]
  },
  {
   "cell_type": "code",
   "execution_count": 31,
   "id": "a51090c8-f20c-4712-9727-ce60ae841fee",
   "metadata": {},
   "outputs": [
    {
     "data": {
      "text/plain": [
       "False"
      ]
     },
     "execution_count": 31,
     "metadata": {},
     "output_type": "execute_result"
    }
   ],
   "source": [
    "not True"
   ]
  },
  {
   "cell_type": "code",
   "execution_count": 32,
   "id": "4485016b-d798-4a18-9541-26e3362f27d5",
   "metadata": {},
   "outputs": [
    {
     "data": {
      "text/plain": [
       "True"
      ]
     },
     "execution_count": 32,
     "metadata": {},
     "output_type": "execute_result"
    }
   ],
   "source": [
    "bool(True)"
   ]
  },
  {
   "cell_type": "code",
   "execution_count": 37,
   "id": "b0b84450-09a7-4ffb-9bce-b2f940a1f65c",
   "metadata": {},
   "outputs": [
    {
     "data": {
      "text/plain": [
       "str"
      ]
     },
     "execution_count": 37,
     "metadata": {},
     "output_type": "execute_result"
    }
   ],
   "source": [
    "## TypeCasting\n",
    "bool(0)\n",
    "\n",
    "type(str(23))"
   ]
  },
  {
   "cell_type": "code",
   "execution_count": 34,
   "id": "9dac30f8-3799-4122-a65e-e65042d42a1e",
   "metadata": {},
   "outputs": [
    {
     "data": {
      "text/plain": [
       "True"
      ]
     },
     "execution_count": 34,
     "metadata": {},
     "output_type": "execute_result"
    }
   ],
   "source": [
    "bool(1)"
   ]
  },
  {
   "cell_type": "code",
   "execution_count": 35,
   "id": "29989b03-459d-43e4-af51-8e472e4da10d",
   "metadata": {},
   "outputs": [
    {
     "name": "stdout",
     "output_type": "stream",
     "text": [
      "True\n"
     ]
    }
   ],
   "source": [
    "a = 1\n",
    "if bool(a) == True:\n",
    "    print(\"True\")"
   ]
  },
  {
   "cell_type": "code",
   "execution_count": 39,
   "id": "962aa188-ca9b-4340-ac9f-cdbaaef82675",
   "metadata": {},
   "outputs": [
    {
     "data": {
      "text/plain": [
       "23"
      ]
     },
     "execution_count": 39,
     "metadata": {},
     "output_type": "execute_result"
    }
   ],
   "source": [
    "int('23')"
   ]
  },
  {
   "cell_type": "code",
   "execution_count": 40,
   "id": "7dc3a5f7-f0e4-4961-9b7a-3d696cc79f04",
   "metadata": {},
   "outputs": [
    {
     "data": {
      "text/plain": [
       "int"
      ]
     },
     "execution_count": 40,
     "metadata": {},
     "output_type": "execute_result"
    }
   ],
   "source": [
    "type(int('23'))"
   ]
  },
  {
   "cell_type": "code",
   "execution_count": 42,
   "id": "74fb49a3-241c-4874-b9b1-c6884803d1f1",
   "metadata": {},
   "outputs": [
    {
     "data": {
      "text/plain": [
       "str"
      ]
     },
     "execution_count": 42,
     "metadata": {},
     "output_type": "execute_result"
    }
   ],
   "source": [
    "type('23')"
   ]
  },
  {
   "cell_type": "markdown",
   "id": "8d9bc1fd-9636-4199-9f72-2eab689a69a3",
   "metadata": {},
   "source": [
    "## Dynamic Typing "
   ]
  },
  {
   "cell_type": "code",
   "execution_count": 44,
   "id": "0b140122-b1ee-4c8e-abe5-c637c061e56c",
   "metadata": {},
   "outputs": [],
   "source": [
    "# we do not need to by-default define the type of the variable just like other languages java and c++\n",
    "a = 12\n",
    "str = \"Samarth\"\n"
   ]
  },
  {
   "cell_type": "code",
   "execution_count": 45,
   "id": "4eb72a9b-414f-4980-87d4-4c0d2121ef40",
   "metadata": {},
   "outputs": [
    {
     "data": {
      "text/plain": [
       "1"
      ]
     },
     "execution_count": 45,
     "metadata": {},
     "output_type": "execute_result"
    }
   ],
   "source": [
    "int(1.54)"
   ]
  },
  {
   "cell_type": "markdown",
   "id": "09dac859-f2c8-402a-a3b8-e185a2f2cf13",
   "metadata": {},
   "source": [
    "## Concatentation between different types \n"
   ]
  },
  {
   "cell_type": "code",
   "execution_count": 46,
   "id": "018405ea-b657-41e1-901c-edcb02cfa911",
   "metadata": {},
   "outputs": [
    {
     "data": {
      "text/plain": [
       "'11'"
      ]
     },
     "execution_count": 46,
     "metadata": {},
     "output_type": "execute_result"
    }
   ],
   "source": [
    "\"1\"+\"1\""
   ]
  },
  {
   "cell_type": "code",
   "execution_count": 47,
   "id": "25f3b03c-a847-4905-a9ce-09690f907772",
   "metadata": {},
   "outputs": [
    {
     "data": {
      "text/plain": [
       "2"
      ]
     },
     "execution_count": 47,
     "metadata": {},
     "output_type": "execute_result"
    }
   ],
   "source": [
    "int(\"1\")+int(\"1\")\n"
   ]
  },
  {
   "cell_type": "code",
   "execution_count": 48,
   "id": "19bd4ca5-0e30-4c24-9133-ffac791d2db5",
   "metadata": {},
   "outputs": [
    {
     "ename": "TypeError",
     "evalue": "unsupported operand type(s) for +: 'int' and 'str'",
     "output_type": "error",
     "traceback": [
      "\u001b[0;31m---------------------------------------------------------------------------\u001b[0m",
      "\u001b[0;31mTypeError\u001b[0m                                 Traceback (most recent call last)",
      "Cell \u001b[0;32mIn[48], line 1\u001b[0m\n\u001b[0;32m----> 1\u001b[0m \u001b[38;5;28;43mint\u001b[39;49m\u001b[43m(\u001b[49m\u001b[38;5;124;43m\"\u001b[39;49m\u001b[38;5;124;43m1\u001b[39;49m\u001b[38;5;124;43m\"\u001b[39;49m\u001b[43m)\u001b[49m\u001b[38;5;241;43m+\u001b[39;49m\u001b[38;5;124;43m\"\u001b[39;49m\u001b[38;5;124;43m1\u001b[39;49m\u001b[38;5;124;43m\"\u001b[39;49m\n",
      "\u001b[0;31mTypeError\u001b[0m: unsupported operand type(s) for +: 'int' and 'str'"
     ]
    }
   ],
   "source": [
    "int(\"1\")+\"1\""
   ]
  },
  {
   "cell_type": "code",
   "execution_count": 49,
   "id": "50238b72-0dae-4125-835b-e2a8905196af",
   "metadata": {},
   "outputs": [
    {
     "ename": "TypeError",
     "evalue": "can't multiply sequence by non-int of type 'str'",
     "output_type": "error",
     "traceback": [
      "\u001b[0;31m---------------------------------------------------------------------------\u001b[0m",
      "\u001b[0;31mTypeError\u001b[0m                                 Traceback (most recent call last)",
      "Cell \u001b[0;32mIn[49], line 1\u001b[0m\n\u001b[0;32m----> 1\u001b[0m \u001b[38;5;124;43m\"\u001b[39;49m\u001b[38;5;124;43m1\u001b[39;49m\u001b[38;5;124;43m\"\u001b[39;49m\u001b[38;5;241;43m*\u001b[39;49m\u001b[38;5;124;43m\"\u001b[39;49m\u001b[38;5;124;43m1\u001b[39;49m\u001b[38;5;124;43m\"\u001b[39;49m\n",
      "\u001b[0;31mTypeError\u001b[0m: can't multiply sequence by non-int of type 'str'"
     ]
    }
   ],
   "source": [
    "\"1\"*\"1\""
   ]
  },
  {
   "cell_type": "code",
   "execution_count": 50,
   "id": "d58c73fd-d296-4dfb-9aae-59f1613062a3",
   "metadata": {},
   "outputs": [
    {
     "data": {
      "text/plain": [
       "'1111111111111111111111111111111111111111111111111111111111111111111111111111111111111111111111111111'"
      ]
     },
     "execution_count": 50,
     "metadata": {},
     "output_type": "execute_result"
    }
   ],
   "source": [
    "\"1\" * 100"
   ]
  },
  {
   "cell_type": "code",
   "execution_count": null,
   "id": "809b2af8-c160-4ed6-81c9-34a78646b881",
   "metadata": {},
   "outputs": [],
   "source": []
  }
 ],
 "metadata": {
  "kernelspec": {
   "display_name": "Python 3 (ipykernel)",
   "language": "python",
   "name": "python3"
  },
  "language_info": {
   "codemirror_mode": {
    "name": "ipython",
    "version": 3
   },
   "file_extension": ".py",
   "mimetype": "text/x-python",
   "name": "python",
   "nbconvert_exporter": "python",
   "pygments_lexer": "ipython3",
   "version": "3.10.8"
  }
 },
 "nbformat": 4,
 "nbformat_minor": 5
}
